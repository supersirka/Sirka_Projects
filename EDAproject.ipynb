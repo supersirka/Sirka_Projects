{
 "cells": [
  {
   "cell_type": "markdown",
   "metadata": {},
   "source": [
    "# Welcome to this Rhyme project \"Exploratory Data Analysis\" on Coursera Labs.\n",
    "\n",
    "In this project, you will learn practically how to create and apply graphical techniques in exploratory data analysis (EDA).\n",
    "\n",
    "We will go through 5 tasks to implement our project:\n",
    "\n",
    "Task 1: Definining Exploratory Data Analysis with an overview of the whole project (This first recorded non-technical task isn't included in the Jupyter notebook).\n",
    "\n",
    "Task 2: Importing libraries and Exploring the Dataset.\n",
    "\n",
    "Task 3: Checking missing values and Outliers.\n",
    "\n",
    "Task 4: Creating visual methods to analyze the data.\n",
    "\n",
    "Task 5: Analyzing trends, patterns, and relationships in the Data."
   ]
  },
  {
   "cell_type": "markdown",
   "metadata": {},
   "source": [
    "# Task 2: Importing libraries and Exploring the Dataset"
   ]
  },
  {
   "cell_type": "code",
   "execution_count": 1,
   "metadata": {},
   "outputs": [],
   "source": [
    "import numpy as np # linear algebra\n",
    "import pandas as pd # data processing, CSV file I/O (e.g. pd.read_csv)\n",
    "from matplotlib import pyplot as plt\n",
    "import seaborn as sns\n",
    "import statsmodels.api as sm\n",
    "import scipy.stats as stats\n",
    "from sklearn.preprocessing import LabelEncoder\n",
    "import copy\n",
    "sns.set() #setting the default seaborn style for our plots"
   ]
  },
  {
   "cell_type": "code",
   "execution_count": 2,
   "metadata": {},
   "outputs": [],
   "source": [
    "# Read the Dataset\n",
    "insurance_df = pd.read_csv(\"insurance-data.csv\")"
   ]
  },
  {
   "cell_type": "code",
   "execution_count": 3,
   "metadata": {},
   "outputs": [
    {
     "data": {
      "text/html": [
       "<div>\n",
       "<style scoped>\n",
       "    .dataframe tbody tr th:only-of-type {\n",
       "        vertical-align: middle;\n",
       "    }\n",
       "\n",
       "    .dataframe tbody tr th {\n",
       "        vertical-align: top;\n",
       "    }\n",
       "\n",
       "    .dataframe thead th {\n",
       "        text-align: right;\n",
       "    }\n",
       "</style>\n",
       "<table border=\"1\" class=\"dataframe\">\n",
       "  <thead>\n",
       "    <tr style=\"text-align: right;\">\n",
       "      <th></th>\n",
       "      <th>age</th>\n",
       "      <th>sex</th>\n",
       "      <th>bmi</th>\n",
       "      <th>children</th>\n",
       "      <th>smoker</th>\n",
       "      <th>region</th>\n",
       "      <th>charges</th>\n",
       "    </tr>\n",
       "  </thead>\n",
       "  <tbody>\n",
       "    <tr>\n",
       "      <th>0</th>\n",
       "      <td>19</td>\n",
       "      <td>female</td>\n",
       "      <td>27.900</td>\n",
       "      <td>0</td>\n",
       "      <td>yes</td>\n",
       "      <td>southwest</td>\n",
       "      <td>16884.92400</td>\n",
       "    </tr>\n",
       "    <tr>\n",
       "      <th>1</th>\n",
       "      <td>18</td>\n",
       "      <td>male</td>\n",
       "      <td>33.770</td>\n",
       "      <td>1</td>\n",
       "      <td>no</td>\n",
       "      <td>southeast</td>\n",
       "      <td>1725.55230</td>\n",
       "    </tr>\n",
       "    <tr>\n",
       "      <th>2</th>\n",
       "      <td>28</td>\n",
       "      <td>male</td>\n",
       "      <td>33.000</td>\n",
       "      <td>3</td>\n",
       "      <td>no</td>\n",
       "      <td>southeast</td>\n",
       "      <td>4449.46200</td>\n",
       "    </tr>\n",
       "    <tr>\n",
       "      <th>3</th>\n",
       "      <td>33</td>\n",
       "      <td>male</td>\n",
       "      <td>22.705</td>\n",
       "      <td>0</td>\n",
       "      <td>no</td>\n",
       "      <td>northwest</td>\n",
       "      <td>21984.47061</td>\n",
       "    </tr>\n",
       "    <tr>\n",
       "      <th>4</th>\n",
       "      <td>32</td>\n",
       "      <td>male</td>\n",
       "      <td>28.880</td>\n",
       "      <td>0</td>\n",
       "      <td>no</td>\n",
       "      <td>northwest</td>\n",
       "      <td>3866.85520</td>\n",
       "    </tr>\n",
       "  </tbody>\n",
       "</table>\n",
       "</div>"
      ],
      "text/plain": [
       "   age     sex     bmi  children smoker     region      charges\n",
       "0   19  female  27.900         0    yes  southwest  16884.92400\n",
       "1   18    male  33.770         1     no  southeast   1725.55230\n",
       "2   28    male  33.000         3     no  southeast   4449.46200\n",
       "3   33    male  22.705         0     no  northwest  21984.47061\n",
       "4   32    male  28.880         0     no  northwest   3866.85520"
      ]
     },
     "execution_count": 3,
     "metadata": {},
     "output_type": "execute_result"
    }
   ],
   "source": [
    "#Display the first 10 examples in the dataset\n",
    "\n",
    "insurance_df.head() ### Fill out the Number of examples"
   ]
  },
  {
   "cell_type": "code",
   "execution_count": 4,
   "metadata": {},
   "outputs": [
    {
     "name": "stdout",
     "output_type": "stream",
     "text": [
      "<class 'pandas.core.frame.DataFrame'>\n",
      "RangeIndex: 1338 entries, 0 to 1337\n",
      "Data columns (total 7 columns):\n",
      " #   Column    Non-Null Count  Dtype  \n",
      "---  ------    --------------  -----  \n",
      " 0   age       1338 non-null   int64  \n",
      " 1   sex       1338 non-null   object \n",
      " 2   bmi       1338 non-null   float64\n",
      " 3   children  1338 non-null   int64  \n",
      " 4   smoker    1338 non-null   object \n",
      " 5   region    1338 non-null   object \n",
      " 6   charges   1338 non-null   float64\n",
      "dtypes: float64(2), int64(2), object(3)\n",
      "memory usage: 73.3+ KB\n"
     ]
    }
   ],
   "source": [
    "#Info about the data shape of data, type of individual columns\n",
    "\n",
    "insurance_df.info()"
   ]
  },
  {
   "cell_type": "markdown",
   "metadata": {},
   "source": [
    "Expected output:\n",
    "\n",
    "    The data should consist of 1338 instances with 7 attributes. 2 integer type, 2 float type and 3 object type (Strings in the column)"
   ]
  },
  {
   "cell_type": "markdown",
   "metadata": {},
   "source": [
    "# Task 3: Checking missing values and Outliers"
   ]
  },
  {
   "cell_type": "code",
   "execution_count": 6,
   "metadata": {},
   "outputs": [
    {
     "data": {
      "text/html": [
       "<div>\n",
       "<style scoped>\n",
       "    .dataframe tbody tr th:only-of-type {\n",
       "        vertical-align: middle;\n",
       "    }\n",
       "\n",
       "    .dataframe tbody tr th {\n",
       "        vertical-align: top;\n",
       "    }\n",
       "\n",
       "    .dataframe thead th {\n",
       "        text-align: right;\n",
       "    }\n",
       "</style>\n",
       "<table border=\"1\" class=\"dataframe\">\n",
       "  <thead>\n",
       "    <tr style=\"text-align: right;\">\n",
       "      <th></th>\n",
       "      <th>age</th>\n",
       "      <th>sex</th>\n",
       "      <th>bmi</th>\n",
       "      <th>children</th>\n",
       "      <th>smoker</th>\n",
       "      <th>region</th>\n",
       "      <th>charges</th>\n",
       "    </tr>\n",
       "  </thead>\n",
       "  <tbody>\n",
       "    <tr>\n",
       "      <th>False</th>\n",
       "      <td>1338</td>\n",
       "      <td>1338</td>\n",
       "      <td>1338</td>\n",
       "      <td>1338</td>\n",
       "      <td>1338</td>\n",
       "      <td>1338</td>\n",
       "      <td>1338</td>\n",
       "    </tr>\n",
       "  </tbody>\n",
       "</table>\n",
       "</div>"
      ],
      "text/plain": [
       "        age   sex   bmi  children  smoker  region  charges\n",
       "False  1338  1338  1338      1338    1338    1338     1338"
      ]
     },
     "execution_count": 6,
     "metadata": {},
     "output_type": "execute_result"
    }
   ],
   "source": [
    "# Check for the null values \n",
    "\n",
    "### Your Code Here\n",
    "insurance_df.isna().apply(pd.value_counts)"
   ]
  },
  {
   "cell_type": "markdown",
   "metadata": {},
   "source": [
    "Expected Output:\n",
    "    \n",
    "    There shouldn't be any missing values"
   ]
  },
  {
   "cell_type": "code",
   "execution_count": 8,
   "metadata": {},
   "outputs": [
    {
     "data": {
      "image/png": "[encoded data removed]",
      "text/plain": [
       "<Figure size 1440x1080 with 1 Axes>"
      ]
     },
     "metadata": {},
     "output_type": "display_data"
    },
    {
     "data": {
      "image/png": "[encoded data removed]",
      "text/plain": [
       "<Figure size 1440x1080 with 1 Axes>"
      ]
     },
     "metadata": {},
     "output_type": "display_data"
    },
    {
     "data": {
      "image/png": "[encoded data removed]",
      "text/plain": [
       "<Figure size 1440x1080 with 1 Axes>"
      ]
     },
     "metadata": {},
     "output_type": "display_data"
    }
   ],
   "source": [
    "# Checking for the outliers\n",
    "plt.figure(figsize= (20,15))\n",
    "plt.subplot(3,1,1)\n",
    "sns.boxplot(x= insurance_df.bmi, color='red')\n",
    "\n",
    "### Write the code to show age and charges graphs, same as we did for bmi (bmi is Body Mass Index)\n",
    "plt.figure(figsize= (20,15))\n",
    "plt.subplot(3,1,2)\n",
    "sns.boxplot(x= insurance_df.age, color='blue')\n",
    "\n",
    "plt.figure(figsize= (20,15))\n",
    "plt.subplot(3,1,3)\n",
    "sns.boxplot(x= insurance_df.charges, color='green')\n",
    "\n",
    "plt.show()"
   ]
  },
  {
   "cell_type": "markdown",
   "metadata": {},
   "source": [
    "Output should include this Analysis:\n",
    "\n",
    "- bmi has a few extreme values.\n",
    "\n",
    "- charges as it is highly skewed, there are quiet a lot of extreme values."
   ]
  },
  {
   "cell_type": "code",
   "execution_count": 11,
   "metadata": {},
   "outputs": [
    {
     "data": {
      "text/html": [
       "<div>\n",
       "<style scoped>\n",
       "    .dataframe tbody tr th:only-of-type {\n",
       "        vertical-align: middle;\n",
       "    }\n",
       "\n",
       "    .dataframe tbody tr th {\n",
       "        vertical-align: top;\n",
       "    }\n",
       "\n",
       "    .dataframe thead th {\n",
       "        text-align: right;\n",
       "    }\n",
       "</style>\n",
       "<table border=\"1\" class=\"dataframe\">\n",
       "  <thead>\n",
       "    <tr style=\"text-align: right;\">\n",
       "      <th></th>\n",
       "      <th>count</th>\n",
       "      <th>mean</th>\n",
       "      <th>std</th>\n",
       "      <th>min</th>\n",
       "      <th>25%</th>\n",
       "      <th>50%</th>\n",
       "      <th>75%</th>\n",
       "      <th>max</th>\n",
       "    </tr>\n",
       "  </thead>\n",
       "  <tbody>\n",
       "    <tr>\n",
       "      <th>age</th>\n",
       "      <td>1338.0</td>\n",
       "      <td>39.207025</td>\n",
       "      <td>14.049960</td>\n",
       "      <td>18.0000</td>\n",
       "      <td>27.00000</td>\n",
       "      <td>39.000</td>\n",
       "      <td>51.000000</td>\n",
       "      <td>64.00000</td>\n",
       "    </tr>\n",
       "    <tr>\n",
       "      <th>bmi</th>\n",
       "      <td>1338.0</td>\n",
       "      <td>30.663397</td>\n",
       "      <td>6.098187</td>\n",
       "      <td>15.9600</td>\n",
       "      <td>26.29625</td>\n",
       "      <td>30.400</td>\n",
       "      <td>34.693750</td>\n",
       "      <td>53.13000</td>\n",
       "    </tr>\n",
       "    <tr>\n",
       "      <th>children</th>\n",
       "      <td>1338.0</td>\n",
       "      <td>1.094918</td>\n",
       "      <td>1.205493</td>\n",
       "      <td>0.0000</td>\n",
       "      <td>0.00000</td>\n",
       "      <td>1.000</td>\n",
       "      <td>2.000000</td>\n",
       "      <td>5.00000</td>\n",
       "    </tr>\n",
       "    <tr>\n",
       "      <th>charges</th>\n",
       "      <td>1338.0</td>\n",
       "      <td>13270.422265</td>\n",
       "      <td>12110.011237</td>\n",
       "      <td>1121.8739</td>\n",
       "      <td>4740.28715</td>\n",
       "      <td>9382.033</td>\n",
       "      <td>16639.912515</td>\n",
       "      <td>63770.42801</td>\n",
       "    </tr>\n",
       "  </tbody>\n",
       "</table>\n",
       "</div>"
      ],
      "text/plain": [
       "           count          mean           std        min         25%       50%  \\\n",
       "age       1338.0     39.207025     14.049960    18.0000    27.00000    39.000   \n",
       "bmi       1338.0     30.663397      6.098187    15.9600    26.29625    30.400   \n",
       "children  1338.0      1.094918      1.205493     0.0000     0.00000     1.000   \n",
       "charges   1338.0  13270.422265  12110.011237  1121.8739  4740.28715  9382.033   \n",
       "\n",
       "                   75%          max  \n",
       "age          51.000000     64.00000  \n",
       "bmi          34.693750     53.13000  \n",
       "children      2.000000      5.00000  \n",
       "charges   16639.912515  63770.42801  "
      ]
     },
     "execution_count": 11,
     "metadata": {},
     "output_type": "execute_result"
    }
   ],
   "source": [
    "# a brief summary for the dataset\n",
    "\n",
    "insurance_df.describe().T"
   ]
  },
  {
   "cell_type": "markdown",
   "metadata": {},
   "source": [
    "Output should include this Analysis:\n",
    "\n",
    "- All the statistics seem reasonable.\n",
    "\n",
    "- Age column: data looks representative of the true age distribution of the adult population with (39) mean.\n",
    "\n",
    "- Children Column: Few people have more than 2 children (75% of the people have 2 or less children).\n",
    "\n",
    "- The claimed amount is higly skewed as most people would require basic medi-care and only few suffer from diseases which cost more to get rid of."
   ]
  },
  {
   "cell_type": "markdown",
   "metadata": {},
   "source": [
    "# Task 4: Creating visual methods to analyze the data."
   ]
  },
  {
   "cell_type": "code",
   "execution_count": null,
   "metadata": {},
   "outputs": [],
   "source": [
    "# Plots to see the distribution of the continuous features individually\n",
    "\n",
    "plt.figure(figsize= (20,15))\n",
    "plt.subplot(3,3,1)\n",
    "plt.hist(insurance_df.bmi, color='lightblue', edgecolor = 'black', alpha = 0.7)\n",
    "plt.xlabel('bmi')\n",
    "\n",
    "### Write the code to show age and charges graphs, same as we did for bmi\n",
    "\n",
    "plt.show()"
   ]
  },
  {
   "cell_type": "markdown",
   "metadata": {},
   "source": [
    "Output should include this Analysis:\n",
    "\n",
    "- bmi looks normally distributed.\n",
    "\n",
    "- Age looks uniformly distributed.\n",
    "\n",
    "- As seen in the previous step, charges are highly skewed."
   ]
  },
  {
   "cell_type": "code",
   "execution_count": null,
   "metadata": {},
   "outputs": [],
   "source": [
    "# showing the skewness of variables\n",
    "Skewness =  ### Your Code Here\n",
    "\n",
    "# We Will Measure the skeweness of the required columns\n",
    "Skewness"
   ]
  },
  {
   "cell_type": "markdown",
   "metadata": {},
   "source": [
    "Output should include this Analysis:\n",
    "\n",
    "- Skewness of bmi is very low as seen in the previous step\n",
    "\n",
    "- age is uniformly distributed and thus not skewed\n",
    "\n",
    "- charges are highly skewed"
   ]
  },
  {
   "cell_type": "code",
   "execution_count": null,
   "metadata": {},
   "outputs": [],
   "source": [
    "# visualizing data to make analysis\n",
    "\n",
    "plt.figure(figsize=(20,25))\n",
    "\n",
    "\n",
    "x = insurance_df.smoker.value_counts().index    #Values for x-axis\n",
    "y = [insurance_df['smoker'].value_counts()[i] for i in x]   # Count of each class on y-axis\n",
    "\n",
    "plt.subplot(4,2,1)\n",
    "plt.bar(x,y, align='center',color = 'red',edgecolor = 'black',alpha = 0.7)  # plot a bar chart\n",
    "plt.xlabel('Smoker?')\n",
    "plt.ylabel('Count ')\n",
    "plt.title('Smoker distribution')\n",
    "\n",
    "x1 = insurance_df.sex.value_counts().index    #Values for x-axis\n",
    "y1 = [insurance_df['sex'].value_counts()[j] for j in x1]   # Count of each class on y-axis\n",
    "\n",
    "### Your code here, write the code for Gender plot\n",
    "\n",
    "x2 = insurance_df.region.value_counts().index    #Values for x-axis\n",
    "y2 = [insurance_df['region'].value_counts()[k] for k in x2]   # Count of each class on y-axis\n",
    "\n",
    "### Your code here, write the code for Region plot\n",
    "\n",
    "\n",
    "x3 = insurance_df.children.value_counts().index    #Values for x-axis\n",
    "y3 = [insurance_df['children'].value_counts()[l] for l in x3]   # Count of each class on y-axis\n",
    "\n",
    "### Your code here, write the code for Children plot\n",
    "\n",
    "\n",
    "plt.show()"
   ]
  },
  {
   "cell_type": "markdown",
   "metadata": {},
   "source": [
    "Output should include this Analysis:\n",
    "\n",
    "- There are lot more non-smokers than smokers.\n",
    "\n",
    "- Instances are distributed evenly accross all regions.\n",
    "\n",
    "- Gender is also distributed evenly.\n",
    "\n",
    "- Most instances have less than 3 children and very few have 4 or 5 children."
   ]
  },
  {
   "cell_type": "code",
   "execution_count": null,
   "metadata": {},
   "outputs": [],
   "source": [
    "# Label encoding the variables before doing a pairplot because pairplot ignores strings\n",
    "\n",
    "insurance_df_encoded = ### Your Code Here\n",
    "insurance_df_encoded.loc[:,['sex', 'smoker', 'region']] = insurance_df_encoded.loc[:,['sex', 'smoker', 'region']].apply(LabelEncoder().fit_transform) \n",
    "\n",
    "sns.pairplot(insurance_df_encoded)  # pairplot\n",
    "plt.show()"
   ]
  },
  {
   "cell_type": "markdown",
   "metadata": {},
   "source": [
    "Output should include this Analysis:\n",
    "\n",
    "- There is an obvious correlation between 'charges' and 'smoker'\n",
    "\n",
    "- Looks like smokers claimed more money than non-smokers\n",
    "\n",
    "- There's an interesting pattern between 'age' and 'charges'. Notice that older people are charged more than the younger ones"
   ]
  },
  {
   "cell_type": "markdown",
   "metadata": {},
   "source": [
    "# Task 5: Analyzing trends, patterns, and relationships in the Data."
   ]
  },
  {
   "cell_type": "code",
   "execution_count": null,
   "metadata": {},
   "outputs": [],
   "source": [
    "# Do charges of people who smoke differ significantly from the people who don't?\n",
    "print(\"Do charges of people who smoke differ significantly from the people who don't?\")\n",
    "insurance_df.smoker.value_counts()"
   ]
  },
  {
   "cell_type": "code",
   "execution_count": null,
   "metadata": {},
   "outputs": [],
   "source": [
    "# Scatter plot to look for visual evidence of dependency between attributes smoker and charges accross different ages\n",
    "plt.figure(figsize=(8,6))\n",
    "sns.scatterplot(insurance_df.age, insurance_df.charges,hue=insurance_df.smoker,palette= ['red','green'] ,alpha=0.6)\n",
    "plt.title(\"Difference between charges of smokers and charges of non-smokers is apparent\")\n",
    "plt.show()"
   ]
  },
  {
   "cell_type": "code",
   "execution_count": null,
   "metadata": {},
   "outputs": [],
   "source": [
    "plt.figure(figsize=(8,6))\n",
    "sns.scatterplot(insurance_df.age, insurance_df.charges,hue=insurance_df.sex,palette= ['pink','lightblue'] )"
   ]
  },
  {
   "cell_type": "markdown",
   "metadata": {},
   "source": [
    "There is no apparent relation between gender and charges"
   ]
  },
  {
   "cell_type": "code",
   "execution_count": null,
   "metadata": {},
   "outputs": [],
   "source": [
    "# T-test to check dependency of smoking on charges\n",
    "Ho = \"Charges of smoker and non-smoker are same\"   # Stating the Null Hypothesis\n",
    "Ha = \"Charges of smoker and non-smoker are not the same\"   # Stating the Alternate Hypothesis\n",
    "\n",
    "x = ### Your Code Here  # Selecting charges corresponding to smokers as an array\n",
    "y = ### Your Code Here # Selecting charges corresponding to non-smokers as an array\n",
    "\n",
    "t, p_value  = stats.ttest_ind(x,y, axis = 0)  # Performing an Independent t-test\n",
    "\n",
    "if p_value < 0.05:  # Setting our significance level at 5%\n",
    "    print(f'{Ha} as the p_value ({p_value}) < 0.05')\n",
    "else:\n",
    "    print(f'{Ho} as the p_value ({p_value}) > 0.05')"
   ]
  },
  {
   "cell_type": "markdown",
   "metadata": {},
   "source": [
    "Thus, Smokers seem to claim significantly more money than non-smokers"
   ]
  },
  {
   "cell_type": "code",
   "execution_count": null,
   "metadata": {},
   "outputs": [],
   "source": [
    "#Does bmi of males differ significantly from that of females?\n",
    "print (\"Does bmi of males differ significantly from that of females?\")\n",
    "insurance_df.sex.value_counts()   #Checking the distribution of males and females"
   ]
  },
  {
   "cell_type": "code",
   "execution_count": null,
   "metadata": {},
   "outputs": [],
   "source": [
    "# T-test to check dependency of bmi on gender\n",
    "Ho = \"Gender has no effect on bmi\"   # Stating the Null Hypothesis\n",
    "Ha = \"Gender has an effect on bmi\"   # Stating the Alternate Hypothesis\n",
    "\n",
    "x = ### Your Code Here  # Selecting bmi values corresponding to males as an array\n",
    "y = ### Your Code Here # Selecting bmi values corresponding to females as an array\n",
    "\n",
    "t, p_value  = stats.ttest_ind(x,y, axis = 0)  #Performing an Independent t-test\n",
    "\n",
    "if p_value < 0.05:  # Setting our significance level at 5%\n",
    "    print(f'{Ha} as the p_value ({p_value.round()}) < 0.05')\n",
    "else:\n",
    "    print(f'{Ho} as the p_value ({p_value.round(3)}) > 0.05')"
   ]
  },
  {
   "cell_type": "markdown",
   "metadata": {},
   "source": [
    "bmi of both the genders are identical\n"
   ]
  },
  {
   "cell_type": "code",
   "execution_count": null,
   "metadata": {},
   "outputs": [],
   "source": [
    "#Is the proportion of smokers significantly different in different genders?\n",
    "\n",
    "\n",
    "# Chi_square test to check if smoking habits are different for different genders\n",
    "Ho = \"Gender has no effect on smoking habits\"   # Stating the Null Hypothesis\n",
    "Ha = \"Gender has an effect on smoking habits\"   # Stating the Alternate Hypothesis\n",
    "\n",
    "crosstab = ### Your Code Here  # Contingency table of sex and smoker attributes\n",
    "\n",
    "chi, p_value, dof, expected =  stats.chi2_contingency(crosstab)\n",
    "\n",
    "if p_value < 0.05:  # Setting our significance level at 5%\n",
    "    print(f'{Ha} as the p_value ({p_value.round(3)}) < 0.05')\n",
    "else:\n",
    "    print(f'{Ho} as the p_value ({p_value.round(3)}) > 0.05')\n",
    "crosstab"
   ]
  },
  {
   "cell_type": "markdown",
   "metadata": {},
   "source": [
    "Proportion of smokers in males is significantly different from that of the females\n",
    "\n"
   ]
  },
  {
   "cell_type": "code",
   "execution_count": null,
   "metadata": {},
   "outputs": [],
   "source": [
    "# Chi_square test to check if smoking habits are different for people of different regions\n",
    "Ho = \"Region has no effect on smoking habits\"   # Stating the Null Hypothesis\n",
    "Ha = \"Region has an effect on smoking habits\"   # Stating the Alternate Hypothesis\n",
    "\n",
    "crosstab = ### Your Code Here  # Contingency table of sex and smoker attributes\n",
    "\n",
    "chi, p_value, dof, expected =  stats.chi2_contingency(crosstab)\n",
    "\n",
    "if p_value < 0.05:  # Setting our significance level at 5%\n",
    "    print(f'{Ha} as the p_value ({p_value.round(3)}) < 0.05')\n",
    "else:\n",
    "    print(f'{Ho} as the p_value ({p_value.round(3)}) > 0.05')\n",
    "crosstab"
   ]
  },
  {
   "cell_type": "markdown",
   "metadata": {},
   "source": [
    "* Smoking habbits of people of different regions are similar\n"
   ]
  },
  {
   "cell_type": "code",
   "execution_count": null,
   "metadata": {},
   "outputs": [],
   "source": [
    "# Is the distribution of bmi across women with no children, one child and two children, the same ?\n",
    "# Test to see if the distributions of bmi values for females having different number of children, are significantly different\n",
    "\n",
    "Ho = \"No. of children has no effect on bmi\"   # Stating the Null Hypothesis\n",
    "Ha = \"No. of children has an effect on bmi\"   # Stating the Alternate Hypothesis\n",
    "\n",
    "\n",
    "female_df = ### Your Code Here\n",
    "\n",
    "zero = ### Your Code Here\n",
    "one = ### Your Code Here\n",
    "two = ### Your Code Here\n",
    "\n",
    "\n",
    "f_stat, p_value = stats.f_oneway(zero,one,two)\n",
    "\n",
    "\n",
    "if p_value < 0.05:  # Setting our significance level at 5%\n",
    "    print(f'{Ha} as the p_value ({p_value.round(3)}) < 0.05')\n",
    "else:\n",
    "    print(f'{Ho} as the p_value ({p_value.round(3)}) > 0.05')"
   ]
  },
  {
   "cell_type": "markdown",
   "metadata": {},
   "source": [
    "# Congratulations! You are now able to Perform Exploratory Data Analysis to your pwn Data Science Projects!"
   ]
  },
  {
   "cell_type": "code",
   "execution_count": null,
   "metadata": {},
   "outputs": [],
   "source": []
  }
 ],
 "metadata": {
  "kernelspec": {
   "display_name": "Python 3",
   "language": "python",
   "name": "python3"
  },
  "language_info": {
   "codemirror_mode": {
    "name": "ipython",
    "version": 3
   },
   "file_extension": ".py",
   "mimetype": "text/x-python",
   "name": "python",
   "nbconvert_exporter": "python",
   "pygments_lexer": "ipython3",
   "version": "3.7.6"
  }
 },
 "nbformat": 4,
 "nbformat_minor": 2
}
